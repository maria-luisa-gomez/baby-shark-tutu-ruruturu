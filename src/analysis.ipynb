{
 "cells": [
  {
   "cell_type": "markdown",
   "id": "685bc539",
   "metadata": {},
   "source": [
    "# Shark Attacks Analysis"
   ]
  },
  {
   "cell_type": "markdown",
   "id": "7f9d8b39",
   "metadata": {},
   "source": [
    "<img src=\"files/toystoryshark.jpg\">"
   ]
  },
  {
   "cell_type": "markdown",
   "id": "4b147d69",
   "metadata": {},
   "source": [
    "## 1. Import modules"
   ]
  },
  {
   "cell_type": "code",
   "execution_count": 1,
   "id": "ac3752e1",
   "metadata": {},
   "outputs": [],
   "source": [
    "import numpy as np\n",
    "import pandas as pd\n",
    "import seaborn as sns\n",
    "import datetime\n",
    "import matplotlib.pyplot as plt\n",
    "import re\n",
    "\n",
    "import warnings\n",
    "\n",
    "warnings.filterwarnings('ignore')"
   ]
  },
  {
   "cell_type": "markdown",
   "id": "018e6e86",
   "metadata": {},
   "source": [
    "## 2. Import CSV"
   ]
  },
  {
   "cell_type": "code",
   "execution_count": 2,
   "id": "bd423b5f",
   "metadata": {},
   "outputs": [],
   "source": [
    "# Read and convert the csv source data into a pandas dataframe.\n",
    "\n",
    "# pd.set_option('display.max_columns', None)\n",
    "sharks_attacks_analysis = pd.read_csv(\"sharks_attacks_final.csv\")"
   ]
  },
  {
   "cell_type": "code",
   "execution_count": 3,
   "id": "84922fcc",
   "metadata": {},
   "outputs": [
    {
     "name": "stdout",
     "output_type": "stream",
     "text": [
      "<class 'pandas.core.frame.DataFrame'>\n",
      "RangeIndex: 4967 entries, 0 to 4966\n",
      "Data columns (total 17 columns):\n",
      " #   Column       Non-Null Count  Dtype  \n",
      "---  ------       --------------  -----  \n",
      " 0   case_number  4967 non-null   object \n",
      " 1   date         4967 non-null   object \n",
      " 2   year         4967 non-null   int64  \n",
      " 3   type         4967 non-null   object \n",
      " 4   country      4954 non-null   object \n",
      " 5   area         4733 non-null   object \n",
      " 6   location     4697 non-null   object \n",
      " 7   activity     4967 non-null   object \n",
      " 8   name         4839 non-null   object \n",
      " 9   sex          4967 non-null   object \n",
      " 10  age          3169 non-null   float64\n",
      " 11  injury       4953 non-null   object \n",
      " 12  fatal_(y/n)  4967 non-null   object \n",
      " 13  time         2775 non-null   object \n",
      " 14  species      4967 non-null   object \n",
      " 15  new_date     4967 non-null   object \n",
      " 16  month_year   4967 non-null   object \n",
      "dtypes: float64(1), int64(1), object(15)\n",
      "memory usage: 659.8+ KB\n"
     ]
    }
   ],
   "source": [
    "sharks_attacks_analysis.info()"
   ]
  },
  {
   "cell_type": "markdown",
   "id": "e34117bc",
   "metadata": {},
   "source": [
    "## 3. Change value formats"
   ]
  },
  {
   "cell_type": "markdown",
   "id": "2001d8dd",
   "metadata": {},
   "source": [
    "#### \"new_date\" --> format='%Y.%m.%d'"
   ]
  },
  {
   "cell_type": "code",
   "execution_count": 4,
   "id": "38dfcfd7",
   "metadata": {},
   "outputs": [],
   "source": [
    "sharks_attacks_analysis[\"new_date\"] = pd.to_datetime(sharks_attacks_analysis[\"new_date\"], format='%Y.%m.%d')"
   ]
  },
  {
   "cell_type": "markdown",
   "id": "48429148",
   "metadata": {},
   "source": [
    "#### \"type\" ---> category"
   ]
  },
  {
   "cell_type": "code",
   "execution_count": 5,
   "id": "f3d454a3",
   "metadata": {},
   "outputs": [],
   "source": [
    "sharks_attacks_analysis[\"type\"] = sharks_attacks_analysis[\"type\"].astype(\"category\")"
   ]
  },
  {
   "cell_type": "markdown",
   "id": "06631db9",
   "metadata": {},
   "source": [
    "#### \"country\" ---> category"
   ]
  },
  {
   "cell_type": "code",
   "execution_count": 6,
   "id": "8501d44e",
   "metadata": {},
   "outputs": [],
   "source": [
    "sharks_attacks_analysis[\"country\"] = sharks_attacks_analysis[\"country\"].astype(\"category\")"
   ]
  },
  {
   "cell_type": "markdown",
   "id": "077fd6aa",
   "metadata": {},
   "source": [
    "#### area, location, name are not going to be used"
   ]
  },
  {
   "cell_type": "markdown",
   "id": "e9b890b8",
   "metadata": {},
   "source": [
    "#### \"activity\" ---> category"
   ]
  },
  {
   "cell_type": "code",
   "execution_count": 7,
   "id": "d3119b83",
   "metadata": {},
   "outputs": [],
   "source": [
    "sharks_attacks_analysis[\"activity\"] = sharks_attacks_analysis[\"activity\"].astype(\"category\")"
   ]
  },
  {
   "cell_type": "markdown",
   "id": "af24052a",
   "metadata": {},
   "source": [
    "#### \"sex\" ---> category"
   ]
  },
  {
   "cell_type": "code",
   "execution_count": 8,
   "id": "c2613b66",
   "metadata": {},
   "outputs": [],
   "source": [
    "sharks_attacks_analysis[\"sex\"] = sharks_attacks_analysis[\"sex\"].astype(\"category\")"
   ]
  },
  {
   "cell_type": "markdown",
   "id": "18122123",
   "metadata": {},
   "source": [
    "#### \"age\" ---> integer"
   ]
  },
  {
   "cell_type": "code",
   "execution_count": 9,
   "id": "3ec5e23d",
   "metadata": {},
   "outputs": [],
   "source": [
    "sharks_attacks_analysis[\"age\"] = pd.to_numeric(sharks_attacks_analysis[\"age\"], errors='coerce')"
   ]
  },
  {
   "cell_type": "markdown",
   "id": "4151b125",
   "metadata": {},
   "source": [
    "#### injury is not going to be used"
   ]
  },
  {
   "cell_type": "markdown",
   "id": "79182361",
   "metadata": {},
   "source": [
    "#### \"fatal_(y/n)\" ---> category"
   ]
  },
  {
   "cell_type": "code",
   "execution_count": 10,
   "id": "e02fa53a",
   "metadata": {},
   "outputs": [],
   "source": [
    "sharks_attacks_analysis[\"fatal_(y/n)\"] = sharks_attacks_analysis[\"fatal_(y/n)\"].astype(\"category\")"
   ]
  },
  {
   "cell_type": "markdown",
   "id": "be269bf6",
   "metadata": {},
   "source": [
    "#### \"time\" --->  format = \"%H:%M\""
   ]
  },
  {
   "cell_type": "code",
   "execution_count": 11,
   "id": "0e62a169",
   "metadata": {},
   "outputs": [],
   "source": [
    "sharks_attacks_analysis[\"time\"] = pd.to_datetime(sharks_attacks_analysis[\"time\"], format = \"%H:%M\", errors=\"coerce\")"
   ]
  },
  {
   "cell_type": "markdown",
   "id": "8088d2cf",
   "metadata": {},
   "source": [
    "#### \"species\" ---> category"
   ]
  },
  {
   "cell_type": "code",
   "execution_count": 12,
   "id": "1aa14d01",
   "metadata": {},
   "outputs": [],
   "source": [
    "sharks_attacks_analysis[\"species\"] = sharks_attacks_analysis[\"species\"].astype(\"category\")"
   ]
  },
  {
   "cell_type": "markdown",
   "id": "2e85601c",
   "metadata": {},
   "source": [
    "#### \"month_date\" --->"
   ]
  },
  {
   "cell_type": "code",
   "execution_count": 13,
   "id": "d38e569e",
   "metadata": {},
   "outputs": [],
   "source": [
    "sharks_attacks_analysis[\"month_year\"] = pd.to_datetime(sharks_attacks_analysis[\"new_date\"]).dt.to_period('M')"
   ]
  },
  {
   "cell_type": "code",
   "execution_count": 14,
   "id": "de720693",
   "metadata": {},
   "outputs": [
    {
     "name": "stdout",
     "output_type": "stream",
     "text": [
      "<class 'pandas.core.frame.DataFrame'>\n",
      "RangeIndex: 4967 entries, 0 to 4966\n",
      "Data columns (total 17 columns):\n",
      " #   Column       Non-Null Count  Dtype         \n",
      "---  ------       --------------  -----         \n",
      " 0   case_number  4967 non-null   object        \n",
      " 1   date         4967 non-null   object        \n",
      " 2   year         4967 non-null   int64         \n",
      " 3   type         4967 non-null   category      \n",
      " 4   country      4954 non-null   category      \n",
      " 5   area         4733 non-null   object        \n",
      " 6   location     4697 non-null   object        \n",
      " 7   activity     4967 non-null   category      \n",
      " 8   name         4839 non-null   object        \n",
      " 9   sex          4967 non-null   category      \n",
      " 10  age          3169 non-null   float64       \n",
      " 11  injury       4953 non-null   object        \n",
      " 12  fatal_(y/n)  4967 non-null   category      \n",
      " 13  time         2239 non-null   datetime64[ns]\n",
      " 14  species      4967 non-null   category      \n",
      " 15  new_date     4967 non-null   datetime64[ns]\n",
      " 16  month_year   4967 non-null   period[M]     \n",
      "dtypes: category(6), datetime64[ns](2), float64(1), int64(1), object(6), period[M](1)\n",
      "memory usage: 467.8+ KB\n"
     ]
    }
   ],
   "source": [
    "sharks_attacks_analysis.info()"
   ]
  },
  {
   "cell_type": "code",
   "execution_count": 15,
   "id": "26c270ed",
   "metadata": {},
   "outputs": [
    {
     "data": {
      "text/html": [
       "<div>\n",
       "<style scoped>\n",
       "    .dataframe tbody tr th:only-of-type {\n",
       "        vertical-align: middle;\n",
       "    }\n",
       "\n",
       "    .dataframe tbody tr th {\n",
       "        vertical-align: top;\n",
       "    }\n",
       "\n",
       "    .dataframe thead th {\n",
       "        text-align: right;\n",
       "    }\n",
       "</style>\n",
       "<table border=\"1\" class=\"dataframe\">\n",
       "  <thead>\n",
       "    <tr style=\"text-align: right;\">\n",
       "      <th></th>\n",
       "      <th>case_number</th>\n",
       "      <th>date</th>\n",
       "      <th>year</th>\n",
       "      <th>type</th>\n",
       "      <th>country</th>\n",
       "      <th>area</th>\n",
       "      <th>location</th>\n",
       "      <th>activity</th>\n",
       "      <th>name</th>\n",
       "      <th>sex</th>\n",
       "      <th>age</th>\n",
       "      <th>injury</th>\n",
       "      <th>fatal_(y/n)</th>\n",
       "      <th>time</th>\n",
       "      <th>species</th>\n",
       "      <th>new_date</th>\n",
       "      <th>month_year</th>\n",
       "    </tr>\n",
       "  </thead>\n",
       "  <tbody>\n",
       "    <tr>\n",
       "      <th>0</th>\n",
       "      <td>2018.06.25</td>\n",
       "      <td>25-Jun-2018</td>\n",
       "      <td>2018</td>\n",
       "      <td>Boating</td>\n",
       "      <td>USA</td>\n",
       "      <td>California</td>\n",
       "      <td>Oceanside, San Diego County</td>\n",
       "      <td>Other</td>\n",
       "      <td>Julie Wolfe</td>\n",
       "      <td>Female</td>\n",
       "      <td>57.0</td>\n",
       "      <td>No injury to occupant, outrigger canoe and pad...</td>\n",
       "      <td>N</td>\n",
       "      <td>1900-01-01 18:00:00</td>\n",
       "      <td>White Shark</td>\n",
       "      <td>2018-06-25</td>\n",
       "      <td>2018-06</td>\n",
       "    </tr>\n",
       "    <tr>\n",
       "      <th>1</th>\n",
       "      <td>2018.06.18</td>\n",
       "      <td>18-Jun-2018</td>\n",
       "      <td>2018</td>\n",
       "      <td>Unprovoked</td>\n",
       "      <td>USA</td>\n",
       "      <td>Georgia</td>\n",
       "      <td>St. Simon Island, Glynn County</td>\n",
       "      <td>Standing</td>\n",
       "      <td>Adyson McNeely</td>\n",
       "      <td>Female</td>\n",
       "      <td>11.0</td>\n",
       "      <td>Minor injury to left thigh</td>\n",
       "      <td>N</td>\n",
       "      <td>NaT</td>\n",
       "      <td>Unknown</td>\n",
       "      <td>2018-06-18</td>\n",
       "      <td>2018-06</td>\n",
       "    </tr>\n",
       "    <tr>\n",
       "      <th>2</th>\n",
       "      <td>2018.06.09</td>\n",
       "      <td>09-Jun-2018</td>\n",
       "      <td>2018</td>\n",
       "      <td>Invalid</td>\n",
       "      <td>USA</td>\n",
       "      <td>Hawaii</td>\n",
       "      <td>Habush, Oahu</td>\n",
       "      <td>Surfing</td>\n",
       "      <td>John Denges</td>\n",
       "      <td>Male</td>\n",
       "      <td>48.0</td>\n",
       "      <td>Injury to left lower leg from surfboard skeg</td>\n",
       "      <td>N</td>\n",
       "      <td>1900-01-01 07:45:00</td>\n",
       "      <td>Unknown</td>\n",
       "      <td>2018-06-09</td>\n",
       "      <td>2018-06</td>\n",
       "    </tr>\n",
       "    <tr>\n",
       "      <th>3</th>\n",
       "      <td>2018.06.08</td>\n",
       "      <td>08-Jun-2018</td>\n",
       "      <td>2018</td>\n",
       "      <td>Unprovoked</td>\n",
       "      <td>AUSTRALIA</td>\n",
       "      <td>New South Wales</td>\n",
       "      <td>Arrawarra Headland</td>\n",
       "      <td>Surfing</td>\n",
       "      <td>male</td>\n",
       "      <td>Male</td>\n",
       "      <td>NaN</td>\n",
       "      <td>Minor injury to lower leg</td>\n",
       "      <td>N</td>\n",
       "      <td>NaT</td>\n",
       "      <td>Other</td>\n",
       "      <td>2018-06-08</td>\n",
       "      <td>2018-06</td>\n",
       "    </tr>\n",
       "    <tr>\n",
       "      <th>4</th>\n",
       "      <td>2018.06.04</td>\n",
       "      <td>04-Jun-2018</td>\n",
       "      <td>2018</td>\n",
       "      <td>Provoked</td>\n",
       "      <td>MEXICO</td>\n",
       "      <td>Colima</td>\n",
       "      <td>La Ticla</td>\n",
       "      <td>Diving</td>\n",
       "      <td>Gustavo Ramos</td>\n",
       "      <td>Male</td>\n",
       "      <td>NaN</td>\n",
       "      <td>Lacerations to leg &amp; hand shark PROVOKED INCIDENT</td>\n",
       "      <td>N</td>\n",
       "      <td>NaT</td>\n",
       "      <td>Tiger Shark</td>\n",
       "      <td>2018-06-04</td>\n",
       "      <td>2018-06</td>\n",
       "    </tr>\n",
       "  </tbody>\n",
       "</table>\n",
       "</div>"
      ],
      "text/plain": [
       "  case_number         date  year        type    country             area  \\\n",
       "0  2018.06.25  25-Jun-2018  2018     Boating        USA       California   \n",
       "1  2018.06.18  18-Jun-2018  2018  Unprovoked        USA          Georgia   \n",
       "2  2018.06.09  09-Jun-2018  2018     Invalid        USA           Hawaii   \n",
       "3  2018.06.08  08-Jun-2018  2018  Unprovoked  AUSTRALIA  New South Wales   \n",
       "4  2018.06.04  04-Jun-2018  2018    Provoked     MEXICO           Colima   \n",
       "\n",
       "                         location  activity            name     sex   age  \\\n",
       "0     Oceanside, San Diego County     Other     Julie Wolfe  Female  57.0   \n",
       "1  St. Simon Island, Glynn County  Standing  Adyson McNeely  Female  11.0   \n",
       "2                    Habush, Oahu   Surfing     John Denges    Male  48.0   \n",
       "3              Arrawarra Headland   Surfing            male    Male   NaN   \n",
       "4                        La Ticla    Diving   Gustavo Ramos    Male   NaN   \n",
       "\n",
       "                                              injury fatal_(y/n)  \\\n",
       "0  No injury to occupant, outrigger canoe and pad...           N   \n",
       "1                         Minor injury to left thigh           N   \n",
       "2       Injury to left lower leg from surfboard skeg           N   \n",
       "3                          Minor injury to lower leg           N   \n",
       "4  Lacerations to leg & hand shark PROVOKED INCIDENT           N   \n",
       "\n",
       "                 time      species   new_date month_year  \n",
       "0 1900-01-01 18:00:00  White Shark 2018-06-25    2018-06  \n",
       "1                 NaT      Unknown 2018-06-18    2018-06  \n",
       "2 1900-01-01 07:45:00      Unknown 2018-06-09    2018-06  \n",
       "3                 NaT        Other 2018-06-08    2018-06  \n",
       "4                 NaT  Tiger Shark 2018-06-04    2018-06  "
      ]
     },
     "execution_count": 15,
     "metadata": {},
     "output_type": "execute_result"
    }
   ],
   "source": [
    "sharks_attacks_analysis.head()"
   ]
  },
  {
   "cell_type": "markdown",
   "id": "002e7c0b",
   "metadata": {},
   "source": [
    "# 1) Hypothesis: Has the number of shark attacks increased during the years?"
   ]
  },
  {
   "cell_type": "markdown",
   "id": "076ada90",
   "metadata": {},
   "source": [
    "#### We going to filter the dataset with register only from 1950 onward"
   ]
  },
  {
   "cell_type": "code",
   "execution_count": 16,
   "id": "2c635805",
   "metadata": {},
   "outputs": [],
   "source": [
    "sharks_attacks_analysis = sharks_attacks_analysis[(sharks_attacks_analysis[\"year\"]> 1950)]"
   ]
  },
  {
   "cell_type": "code",
   "execution_count": 17,
   "id": "ea58e81b",
   "metadata": {},
   "outputs": [
    {
     "data": {
      "text/plain": [
       "sex      year\n",
       "Female   2017    40\n",
       "         2007    28\n",
       "         2015    27\n",
       "         2014    23\n",
       "         2010    22\n",
       "                 ..\n",
       "Unknown  1974     1\n",
       "         1983     1\n",
       "         1990     1\n",
       "         2013     1\n",
       "         2018     1\n",
       "Name: year, Length: 195, dtype: int64"
      ]
     },
     "execution_count": 17,
     "metadata": {},
     "output_type": "execute_result"
    }
   ],
   "source": [
    "sharks_attacks_historical = sharks_attacks_analysis.groupby('sex').year.value_counts()\n",
    "sharks_attacks_historical"
   ]
  },
  {
   "cell_type": "code",
   "execution_count": 18,
   "id": "11852a71",
   "metadata": {},
   "outputs": [
    {
     "data": {
      "text/plain": [
       "Text(0.5, 1.0, 'Shark attacks 1950 - 2018')"
      ]
     },
     "execution_count": 18,
     "metadata": {},
     "output_type": "execute_result"
    },
    {
     "data": {
      "image/png": "[encoded data removed]",
      "text/plain": [
       "<Figure size 1440x360 with 1 Axes>"
      ]
     },
     "metadata": {
      "needs_background": "light"
     },
     "output_type": "display_data"
    }
   ],
   "source": [
    "sharks_attacks_analysis.groupby('sex').year.value_counts().unstack(0).plot(kind='bar', stacked=False, figsize=(20, 5))\n",
    "\n",
    "\n",
    "# #Set graph labels\n",
    "plt.ylabel('Number of attacks', fontsize=15)\n",
    "plt.xlabel('years', fontsize=15)\n",
    "plt.title('Shark attacks 1950 - 2018', fontsize=15)\n"
   ]
  },
  {
   "cell_type": "markdown",
   "id": "dc86e23a",
   "metadata": {},
   "source": [
    "#### It seems it keeps incresing as year goes by and there's a significant difference between men and women although lately the number of cases for women has increased considerably (women in sports?)"
   ]
  },
  {
   "cell_type": "markdown",
   "id": "ba6a0ded",
   "metadata": {},
   "source": [
    "# 2) Hypothesis: Activity vs Fatal. Are activities more risky than others?"
   ]
  },
  {
   "cell_type": "code",
   "execution_count": 19,
   "id": "154bd5b3",
   "metadata": {},
   "outputs": [],
   "source": [
    "sns.set_style(\"whitegrid\")\n",
    "sns.set(rc={\"figure.figsize\": (12.,6.)})"
   ]
  },
  {
   "cell_type": "code",
   "execution_count": 20,
   "id": "e984e27e",
   "metadata": {},
   "outputs": [
    {
     "data": {
      "text/plain": [
       "Text(0.5, 1.0, 'Number of Fatal shark attacks by activity')"
      ]
     },
     "execution_count": 20,
     "metadata": {},
     "output_type": "execute_result"
    },
    {
     "data": {
      "image/png": "[encoded data removed]",
      "text/plain": [
       "<Figure size 864x432 with 1 Axes>"
      ]
     },
     "metadata": {},
     "output_type": "display_data"
    }
   ],
   "source": [
    "sns.histplot(data=sharks_attacks_analysis, x=\"activity\", hue=\"fatal_(y/n)\", multiple=\"stack\", palette = \"Spectral\")\n",
    "#Set graph labels\n",
    "plt.ylabel('Number of shark attacks', fontsize=15)\n",
    "plt.title('Number of Fatal shark attacks by activity', fontsize=15)\n"
   ]
  },
  {
   "cell_type": "markdown",
   "id": "62a0bcbc",
   "metadata": {},
   "source": [
    "#### Swimming seems riskier than the rest and although there are more cases of shark attacks while people are surfing, they don't end up in death"
   ]
  },
  {
   "cell_type": "markdown",
   "id": "aee8231a",
   "metadata": {},
   "source": [
    "# 3) Hypothesis: Are some shark species more dangerous than others?"
   ]
  },
  {
   "cell_type": "code",
   "execution_count": 21,
   "id": "c3bb579e",
   "metadata": {},
   "outputs": [],
   "source": [
    "# sharks_attacks_H3 = sharks_attacks_analysis[(sharks_attacks_analysis[\"species\"] != \"Unknown\")]\n",
    "# sharks_attacks_H3 = sharks_attacks_H3[(sharks_attacks_analysis[\"species\"] != \"Other\")]"
   ]
  },
  {
   "cell_type": "code",
   "execution_count": 22,
   "id": "bc5a70ca",
   "metadata": {},
   "outputs": [],
   "source": [
    "# sharks_attacks_H3.species.unique"
   ]
  },
  {
   "cell_type": "code",
   "execution_count": 23,
   "id": "4c113652",
   "metadata": {},
   "outputs": [
    {
     "data": {
      "text/plain": [
       "([0, 1, 2, 3, 4, 5, 6, 7, 8, 9, 10, 11, 12, 13],\n",
       " [Text(0, 0, ''),\n",
       "  Text(0, 0, ''),\n",
       "  Text(0, 0, ''),\n",
       "  Text(0, 0, ''),\n",
       "  Text(0, 0, ''),\n",
       "  Text(0, 0, ''),\n",
       "  Text(0, 0, ''),\n",
       "  Text(0, 0, ''),\n",
       "  Text(0, 0, ''),\n",
       "  Text(0, 0, ''),\n",
       "  Text(0, 0, ''),\n",
       "  Text(0, 0, ''),\n",
       "  Text(0, 0, ''),\n",
       "  Text(0, 0, '')])"
      ]
     },
     "execution_count": 23,
     "metadata": {},
     "output_type": "execute_result"
    },
    {
     "data": {
      "image/png": "[encoded data removed]",
      "text/plain": [
       "<Figure size 864x432 with 1 Axes>"
      ]
     },
     "metadata": {},
     "output_type": "display_data"
    }
   ],
   "source": [
    "# sns.histplot(data=sharks_attacks_H3, x=\"species\", hue=\"fatal_(y/n)\", multiple=\"stack\", palette = \"rainbow\")\n",
    "sns.histplot(data=sharks_attacks_analysis, x=\"species\", hue=\"fatal_(y/n)\", multiple=\"stack\", palette = \"rainbow\")\n",
    "\n",
    "#Set graph labels\n",
    "plt.ylabel('Number of shark attacks', fontsize=15)\n",
    "plt.title('Number of Fatal shark attacks by species', fontsize=15)\n",
    "plt.xticks(rotation=45)"
   ]
  },
  {
   "cell_type": "markdown",
   "id": "aee9650f",
   "metadata": {},
   "source": [
    "#### White sharks seems to be the most dangerous species, maybe there are more number of white sharks in the world"
   ]
  },
  {
   "cell_type": "markdown",
   "id": "58654daa",
   "metadata": {},
   "source": [
    "# Other hypothesis: number of attacks by hour of the day (unfinished)"
   ]
  },
  {
   "cell_type": "code",
   "execution_count": 24,
   "id": "33d8a8bf",
   "metadata": {},
   "outputs": [],
   "source": [
    "sharks_attacks_Other =  sharks_attacks_analysis[\"time\"].value_counts()"
   ]
  },
  {
   "cell_type": "code",
   "execution_count": 25,
   "id": "692183ca",
   "metadata": {},
   "outputs": [],
   "source": [
    "# sns.scatterplot(x=\"time\", data=sharks_attacks_analysis)"
   ]
  },
  {
   "cell_type": "code",
   "execution_count": 26,
   "id": "9a84b70c",
   "metadata": {},
   "outputs": [
    {
     "data": {
      "text/plain": [
       "<AxesSubplot:xlabel='time', ylabel='Count'>"
      ]
     },
     "execution_count": 26,
     "metadata": {},
     "output_type": "execute_result"
    },
    {
     "data": {
      "image/png": "[encoded data removed]",
      "text/plain": [
       "<Figure size 864x432 with 1 Axes>"
      ]
     },
     "metadata": {},
     "output_type": "display_data"
    }
   ],
   "source": [
    "sns.histplot(data=sharks_attacks_analysis, x=\"time\", multiple=\"stack\")"
   ]
  },
  {
   "cell_type": "code",
   "execution_count": null,
   "id": "b5c5b5cd",
   "metadata": {},
   "outputs": [],
   "source": []
  }
 ],
 "metadata": {
  "kernelspec": {
   "display_name": "Python 3 (ipykernel)",
   "language": "python",
   "name": "python3"
  },
  "language_info": {
   "codemirror_mode": {
    "name": "ipython",
    "version": 3
   },
   "file_extension": ".py",
   "mimetype": "text/x-python",
   "name": "python",
   "nbconvert_exporter": "python",
   "pygments_lexer": "ipython3",
   "version": "3.9.2"
  }
 },
 "nbformat": 4,
 "nbformat_minor": 5
}
